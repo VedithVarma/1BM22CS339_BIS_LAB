{
  "nbformat": 4,
  "nbformat_minor": 0,
  "metadata": {
    "colab": {
      "provenance": []
    },
    "kernelspec": {
      "name": "python3",
      "display_name": "Python 3"
    },
    "language_info": {
      "name": "python"
    }
  },
  "cells": [
    {
      "cell_type": "code",
      "source": [
        "import numpy as np\n",
        "import random\n",
        "\n",
        "class AntColony:\n",
        "    def __init__(self, distance_matrix, num_ants, num_iterations, alpha, beta, evaporation_rate):\n",
        "        self.distance_matrix = distance_matrix\n",
        "        self.num_ants = num_ants\n",
        "        self.num_iterations = num_iterations\n",
        "        self.alpha = alpha\n",
        "        self.beta = beta\n",
        "        self.evaporation_rate = evaporation_rate\n",
        "        self.num_cities = distance_matrix.shape[0]\n",
        "        self.pheromone_matrix = np.ones((self.num_cities, self.num_cities))\n",
        "\n",
        "    def _calculate_probabilities(self, ant, visited):\n",
        "        pheromone = self.pheromone_matrix[ant, :]\n",
        "        visibility = 1 / self.distance_matrix[ant, :]\n",
        "        probabilities = (pheromone ** self.alpha) * (visibility ** self.beta)\n",
        "        # Convert visited set to array for indexing\n",
        "        visited = np.array(list(visited))\n",
        "        probabilities[visited] = 0\n",
        "        return probabilities / np.sum(probabilities)\n",
        "\n",
        "    def _update_pheromones(self, all_paths):\n",
        "        self.pheromone_matrix *= (1 - self.evaporation_rate)\n",
        "        for path, length in all_paths:\n",
        "            for i in range(len(path) - 1):\n",
        "                self.pheromone_matrix[path[i], path[i + 1]] += 1 / length\n",
        "\n",
        "    def solve(self):\n",
        "        best_path = None\n",
        "        best_length = float('inf')\n",
        "\n",
        "        for iteration in range(self.num_iterations):\n",
        "            all_paths = []\n",
        "            for ant in range(self.num_ants):\n",
        "                path = [random.randint(0, self.num_cities - 1)]\n",
        "                visited = set(path)\n",
        "\n",
        "                for _ in range(self.num_cities - 1):\n",
        "                    current_city = path[-1]\n",
        "                    probabilities = self._calculate_probabilities(current_city, visited)\n",
        "                    next_city = np.random.choice(range(self.num_cities), p=probabilities)\n",
        "                    path.append(next_city)\n",
        "                    visited.add(next_city)\n",
        "\n",
        "                # Return to starting city\n",
        "                path.append(path[0])\n",
        "                length = self._calculate_path_length(path)\n",
        "                all_paths.append((path, length))\n",
        "\n",
        "                if length < best_length:\n",
        "                    best_length = length\n",
        "                    best_path = path\n",
        "\n",
        "            self._update_pheromones(all_paths)\n",
        "            # print(f\"Iteration {iteration + 1}, Best Length: {best_length}\")\n",
        "\n",
        "        return best_path, best_length\n",
        "\n",
        "    def _calculate_path_length(self, path):\n",
        "        return sum(self.distance_matrix[path[i], path[i + 1]] for i in range(len(path) - 1))\n",
        "\n",
        "\n",
        "if __name__ == \"__main__\":\n",
        "    # Create a distance matrix for 5 cities\n",
        "    distance_matrix = np.array([[0, 2, 9, 10, 3],\n",
        "                                 [1, 0, 6, 4, 5],\n",
        "                                 [15, 7, 0, 8, 9],\n",
        "                                 [6, 3, 12, 0, 4],\n",
        "                                 [10, 4, 8, 2, 0]])\n",
        "\n",
        "    aco = AntColony(distance_matrix, num_ants=10, num_iterations=100, alpha=1.0, beta=2.0, evaporation_rate=0.5)\n",
        "    best_path, best_length = aco.solve()\n",
        "    print(\"Best Path:\", best_path)\n",
        "    print(\"Best Length:\", best_length)"
      ],
      "metadata": {
        "colab": {
          "base_uri": "https://localhost:8080/"
        },
        "id": "Hk-ooacOiBRf",
        "outputId": "44efae9d-9cf8-4d19-986b-0c07915b2b30"
      },
      "execution_count": null,
      "outputs": [
        {
          "output_type": "stream",
          "name": "stderr",
          "text": [
            "<ipython-input-16-57b8e868a3e4>:17: RuntimeWarning: divide by zero encountered in divide\n",
            "  visibility = 1 / self.distance_matrix[ant, :]\n"
          ]
        },
        {
          "output_type": "stream",
          "name": "stdout",
          "text": [
            "Best Path: [3, 1, 0, 4, 2, 3]\n",
            "Best Length: 23\n"
          ]
        }
      ]
    },
    {
      "cell_type": "code",
      "source": [],
      "metadata": {
        "id": "0AEoWvL7w53K"
      },
      "execution_count": null,
      "outputs": []
    }
  ]
}